{
 "cells": [
  {
   "cell_type": "code",
   "execution_count": null,
   "id": "south-decrease",
   "metadata": {},
   "outputs": [],
   "source": [
    "\"\"\"Evaluates product matching based on extracted feateres from provided data set\"\"\"\n",
    "\n",
    "import pandas as pd\n",
    "from pprint import pprint"
   ]
  },
  {
   "cell_type": "code",
   "execution_count": null,
   "id": "adult-trailer",
   "metadata": {},
   "outputs": [],
   "source": [
    "def csv_read():\n",
    "    \"\"\"reads initial data from csv\"\"\"\n",
    "    df1 = pd.read_csv(\"/users/brian/code_projects/1-extracted_data_final.csv\")\n",
    "    return df1"
   ]
  },
  {
   "cell_type": "code",
   "execution_count": null,
   "id": "binding-cancellation",
   "metadata": {},
   "outputs": [],
   "source": [
    "def brand_check(data):\n",
    "    \"\"\"If product_brand is null in initial data extracts the name from product_slug\"\"\"\n",
    "    brands = []\n",
    "    for row in data['brand_name']:\n",
    "        if data['brand_name'][row] == \"NaN\":\n",
    "            #append brands based on product_slug minus the flavor and everything to the right\n",
    "            print(\"blah\")\n",
    "        else:\n",
    "            brands.append(data['brand_name'][row])"
   ]
  },
  {
   "cell_type": "code",
   "execution_count": null,
   "id": "incorrect-remark",
   "metadata": {},
   "outputs": [],
   "source": [
    "def main():\n",
    "\n",
    "    raw_data = csv_read()\n",
    "    return raw_data\n",
    "    # brands_fixed = brand_check(raw_data)"
   ]
  },
  {
   "cell_type": "code",
   "execution_count": null,
   "id": "mature-america",
   "metadata": {},
   "outputs": [],
   "source": [
    "# raw_data = main()\n",
    "# print(raw_data)"
   ]
  }
 ],
 "metadata": {
  "kernelspec": {
   "display_name": "Python 3",
   "language": "python",
   "name": "python3"
  },
  "language_info": {
   "codemirror_mode": {
    "name": "ipython",
    "version": 3
   },
   "file_extension": ".py",
   "mimetype": "text/x-python",
   "name": "python",
   "nbconvert_exporter": "python",
   "pygments_lexer": "ipython3",
   "version": "3.8.0"
  }
 },
 "nbformat": 4,
 "nbformat_minor": 5
}
